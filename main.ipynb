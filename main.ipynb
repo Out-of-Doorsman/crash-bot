{
 "cells": [
  {
   "cell_type": "code",
   "execution_count": 1,
   "id": "4fcf9fb9-aa2a-493f-84cc-8cea80582a7a",
   "metadata": {
    "tags": []
   },
   "outputs": [],
   "source": [
    "import os\n",
    "import zipfile"
   ]
  },
  {
   "cell_type": "code",
   "execution_count": 2,
   "id": "358e35ce-625a-47c0-9e3f-93453d35bad0",
   "metadata": {
    "tags": []
   },
   "outputs": [],
   "source": [
    "folder_path = \"../crash-bot/data_raw\"\n",
    "files = os.listdir(folder_path)"
   ]
  },
  {
   "cell_type": "code",
   "execution_count": 3,
   "id": "cc61d9d9-8c96-400e-8af0-0f099bf0b114",
   "metadata": {
    "tags": []
   },
   "outputs": [
    {
     "name": "stdout",
     "output_type": "stream",
     "text": [
      "Extracted CISS_2018_CSV_files.zip successfully.\n",
      "Extracted CISS_2022_CSV_files.zip successfully.\n",
      "Extracted CISS_2019_CSV_files.zip successfully.\n",
      "Extracted CISS_2020_CSV_files.zip successfully.\n",
      "Extracted CISS_2017_CSV_files.zip successfully.\n",
      "Extracted CISS_2021_CSV_files.zip successfully.\n"
     ]
    }
   ],
   "source": [
    "for file in files:\n",
    "    file_path = os.path.join(folder_path, file)\n",
    "    extract_dir = file_path[:-4]\n",
    "    os.mkdir(extract_dir)\n",
    "    if zipfile.is_zipfile(file_path):\n",
    "        with zipfile.ZipFile(file_path, 'r') as z:\n",
    "            z.extractall(extract_dir)\n",
    "            print(f\"Extracted {file} successfully.\")"
   ]
  },
  {
   "cell_type": "code",
   "execution_count": 4,
   "id": "4eea2c9d-ba3b-4336-8f8c-ff75341151bf",
   "metadata": {},
   "outputs": [],
   "source": [
    "import pandas as pd"
   ]
  },
  {
   "cell_type": "code",
   "execution_count": 25,
   "id": "06b491bc-45f9-434b-8b6c-1e82d1889762",
   "metadata": {
    "tags": []
   },
   "outputs": [],
   "source": [
    "crash_2017_path = \"../crash-bot/data_raw/CISS_2017_CSV_files/CRASH.csv\"\n",
    "crash_2018_path = \"../crash-bot/data_raw/CISS_2018_CSV_files/CRASH.CSV\"\n",
    "crash_2019_path = \"../crash-bot/data_raw/CISS_2019_CSV_files/CRASH.CSV\"\n",
    "crash_2020_path = \"../crash-bot/data_raw/CISS_2020_CSV_files/CRASH.csv\"\n",
    "crash_2021_path = \"../crash-bot/data_raw/CISS_2021_CSV_files/CRASH.csv\"\n",
    "crash_2022_path = \"../crash-bot/data_raw/CISS_2022_CSV_files/CRASH.csv\""
   ]
  },
  {
   "cell_type": "code",
   "execution_count": 26,
   "id": "82c5b261-3da2-4679-a261-e86931ff7509",
   "metadata": {
    "tags": []
   },
   "outputs": [],
   "source": [
    "crash_2017_df = pd.read_csv(crash_2017_path, encoding='latin-1')\n",
    "crash_2018_df = pd.read_csv(crash_2018_path, encoding='latin-1')\n",
    "crash_2019_df = pd.read_csv(crash_2019_path, encoding='latin-1')\n",
    "crash_2020_df = pd.read_csv(crash_2020_path, encoding='latin-1')\n",
    "crash_2021_df = pd.read_csv(crash_2021_path, encoding='latin-1')\n",
    "crash_2022_df = pd.read_csv(crash_2022_path, encoding='latin-1')"
   ]
  },
  {
   "cell_type": "code",
   "execution_count": 32,
   "id": "ad56fdf7-0f0f-43ed-bdd3-4b003c5a57d2",
   "metadata": {
    "tags": []
   },
   "outputs": [],
   "source": [
    "crash_df = pd.concat([crash_2017_df, crash_2018_df, crash_2019_df, crash_2020_df, crash_2021_df, crash_2022_df])"
   ]
  },
  {
   "cell_type": "code",
   "execution_count": 36,
   "id": "c2d2891f-cf1c-462c-b6e0-9aacd9ac972e",
   "metadata": {
    "tags": []
   },
   "outputs": [
    {
     "data": {
      "text/plain": [
       "['CASEID',\n",
       " 'CRASHYEAR',\n",
       " 'PSU',\n",
       " 'CASENO',\n",
       " 'CASENUMBER',\n",
       " 'CATEGORY',\n",
       " 'CRASHMONTH',\n",
       " 'DAYOFWEEK',\n",
       " 'CRASHTIME',\n",
       " 'CONFIG',\n",
       " 'EVENTS',\n",
       " 'VEHICLES',\n",
       " 'CAIS',\n",
       " 'CISS',\n",
       " 'CINJURED',\n",
       " 'CINJSEV',\n",
       " 'CTREAT',\n",
       " 'ALCINV',\n",
       " 'DRGINV',\n",
       " 'MANCOLL',\n",
       " 'SUMMARY',\n",
       " 'CASEWGT',\n",
       " 'PSUSTRAT',\n",
       " 'VERSION',\n",
       " 'PANDEMIC']"
      ]
     },
     "execution_count": 36,
     "metadata": {},
     "output_type": "execute_result"
    }
   ],
   "source": [
    "crash_df.columns.tolist()"
   ]
  },
  {
   "cell_type": "code",
   "execution_count": null,
   "id": "578c43b3-3856-4a88-a561-661f4b92f4f9",
   "metadata": {},
   "outputs": [],
   "source": []
  }
 ],
 "metadata": {
  "environment": {
   "kernel": "python3",
   "name": "tf2-cpu.2-11.m123",
   "type": "gcloud",
   "uri": "us-docker.pkg.dev/deeplearning-platform-release/gcr.io/tf2-cpu.2-11:m123"
  },
  "kernelspec": {
   "display_name": "Python 3 (Local)",
   "language": "python",
   "name": "python3"
  },
  "language_info": {
   "codemirror_mode": {
    "name": "ipython",
    "version": 3
   },
   "file_extension": ".py",
   "mimetype": "text/x-python",
   "name": "python",
   "nbconvert_exporter": "python",
   "pygments_lexer": "ipython3",
   "version": "3.10.14"
  }
 },
 "nbformat": 4,
 "nbformat_minor": 5
}
