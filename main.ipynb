{
 "cells": [
  {
   "cell_type": "code",
   "execution_count": 1,
   "id": "4fcf9fb9-aa2a-493f-84cc-8cea80582a7a",
   "metadata": {
    "tags": []
   },
   "outputs": [],
   "source": [
    "import os\n",
    "import zipfile"
   ]
  },
  {
   "cell_type": "code",
   "execution_count": 4,
   "id": "358e35ce-625a-47c0-9e3f-93453d35bad0",
   "metadata": {
    "tags": []
   },
   "outputs": [],
   "source": [
    "folder_path = \"../crash-bot/data_raw\"\n",
    "files = os.listdir(folder_path)"
   ]
  },
  {
   "cell_type": "code",
   "execution_count": 6,
   "id": "cc61d9d9-8c96-400e-8af0-0f099bf0b114",
   "metadata": {
    "tags": []
   },
   "outputs": [
    {
     "name": "stdout",
     "output_type": "stream",
     "text": [
      "Extracted CISS_2018_CSV_files.zip successfully.\n",
      "Extracted CISS_2022_CSV_files.zip successfully.\n",
      "Extracted CISS_2019_CSV_files.zip successfully.\n",
      "Extracted CISS_2020_CSV_files.zip successfully.\n",
      "Extracted CISS_2017_CSV_files.zip successfully.\n",
      "Extracted CISS_2021_CSV_files.zip successfully.\n"
     ]
    }
   ],
   "source": [
    "for file in files:\n",
    "    file_path = os.path.join(folder_path, file)\n",
    "    extract_dir = file_path[:-4]\n",
    "    os.mkdir(extract_dir)\n",
    "    if zipfile.is_zipfile(file_path):\n",
    "        with zipfile.ZipFile(file_path, 'r') as z:\n",
    "            z.extractall(extract_dir)\n",
    "            print(f\"Extracted {file} successfully.\")"
   ]
  },
  {
   "cell_type": "code",
   "execution_count": null,
   "id": "4eea2c9d-ba3b-4336-8f8c-ff75341151bf",
   "metadata": {},
   "outputs": [],
   "source": []
  }
 ],
 "metadata": {
  "environment": {
   "kernel": "python3",
   "name": "tf2-cpu.2-11.m123",
   "type": "gcloud",
   "uri": "us-docker.pkg.dev/deeplearning-platform-release/gcr.io/tf2-cpu.2-11:m123"
  },
  "kernelspec": {
   "display_name": "Python 3 (Local)",
   "language": "python",
   "name": "python3"
  },
  "language_info": {
   "codemirror_mode": {
    "name": "ipython",
    "version": 3
   },
   "file_extension": ".py",
   "mimetype": "text/x-python",
   "name": "python",
   "nbconvert_exporter": "python",
   "pygments_lexer": "ipython3",
   "version": "3.10.14"
  }
 },
 "nbformat": 4,
 "nbformat_minor": 5
}
